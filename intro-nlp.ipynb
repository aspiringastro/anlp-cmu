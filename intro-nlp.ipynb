{
 "cells": [
  {
   "cell_type": "markdown",
   "id": "0780bc04-1cb1-41fe-8352-d8274a913439",
   "metadata": {},
   "source": [
    "# Understanding NLP\n",
    "\n",
    "### Where it works well?\n",
    "\n",
    "### where it fails?\n",
    "\n",
    "### How can we \n",
    "* create systems for various tasks\n",
    "* identify their strengths and weaknesses\n",
    "* make appropriate improvements\n",
    "* achieve whatever we want to do with NLP\n",
    "\n"
   ]
  },
  {
   "cell_type": "markdown",
   "id": "b0f30966-ee92-4916-93bd-eb3e7e5f17b7",
   "metadata": {},
   "source": [
    "# General Framework for NLP Systems\n",
    "\n",
    "Create a function to map an input X (usually language) to an output Y.\n",
    "\n",
    "* X (Text) -> Y ( Text in another Language) -> Translation\n",
    "* X (Text) -> Y (Response) -> Dialog Systems \n",
    "* X (Text) -> Y (Label) -> Text Classification\n",
    "* X (Text) -> Y (Linguistic Structure) -> Language Analysis\n",
    "\n",
    "To create such a system, use\n",
    "* Manual creation of rules\n",
    "* Machine Learning from paired data <X, Y>\n",
    "\n",
    "Usually, rule-based system is used for simpler systems and should be considered before ML\n",
    "\n",
    "- Linguistic semantic trees\n",
    "- Discord structure\n",
    "\n",
    "We can learn from unpaired and paired data. Is Summarization considered a linguistic structure? It is closer to Translation in some ways."
   ]
  },
  {
   "cell_type": "code",
   "execution_count": null,
   "id": "1648ad85-e29f-4d10-94a6-95799eec93df",
   "metadata": {},
   "outputs": [],
   "source": []
  }
 ],
 "metadata": {
  "kernelspec": {
   "display_name": "Python 3 (ipykernel)",
   "language": "python",
   "name": "python3"
  },
  "language_info": {
   "codemirror_mode": {
    "name": "ipython",
    "version": 3
   },
   "file_extension": ".py",
   "mimetype": "text/x-python",
   "name": "python",
   "nbconvert_exporter": "python",
   "pygments_lexer": "ipython3",
   "version": "3.8.2"
  }
 },
 "nbformat": 4,
 "nbformat_minor": 5
}
