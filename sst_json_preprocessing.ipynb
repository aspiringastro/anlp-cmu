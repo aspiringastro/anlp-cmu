{
 "cells": [
  {
   "cell_type": "code",
   "execution_count": 3,
   "id": "c28b6a83-b051-4ee3-8d08-f17e205164ec",
   "metadata": {},
   "outputs": [],
   "source": [
    "import torch\n",
    "from torchtext import data\n",
    "import json"
   ]
  },
  {
   "cell_type": "code",
   "execution_count": 5,
   "id": "e537131d-7358-410d-9fe2-af80d88dae3f",
   "metadata": {},
   "outputs": [],
   "source": [
    "def load_dataset(file):\n",
    "    ds =open(file, 'r').read().splitlines()\n",
    "    ds_json = []\n",
    "    for line in ds:\n",
    "        label, text = line.strip().split('|||')\n",
    "        ds_json.append({'label': label.strip(), 'text': text.strip()})\n",
    "    return json.dumps(ds_json)\n",
    "\n"
   ]
  },
  {
   "cell_type": "code",
   "execution_count": 8,
   "id": "4ae1823b-91d2-40f7-a450-f2ff756d28df",
   "metadata": {},
   "outputs": [],
   "source": [
    "\n",
    "# Three class\n",
    "for data_type in [ 'train', 'dev', 'test']:\n",
    "    file_data = load_dataset('data/sst-sentiment-text-threeclass/' + data_type + '.txt')\n",
    "    with open('data/sst-sentiment-text-threeclass/' + data_type + '.json', \"w\") as outfile:\n",
    "        outfile.write(file_data)\n",
    "\n"
   ]
  },
  {
   "cell_type": "code",
   "execution_count": 7,
   "id": "d6183d3f-f848-41ce-af95-884c0ce43271",
   "metadata": {},
   "outputs": [],
   "source": [
    "\n",
    "# Five class\n",
    "for data_type in [ 'train', 'dev', 'test']:\n",
    "    file_data = load_dataset('data/sst-sentiment-text-fiveclass/' + data_type + '.txt')\n",
    "    with open('data/sst-sentiment-text-fiveclass/' + data_type + '.json', \"w\") as outfile:\n",
    "        outfile.write(file_data)\n",
    "\n"
   ]
  },
  {
   "cell_type": "code",
   "execution_count": null,
   "id": "45bed64a-46af-40de-99ea-6df0dae9e2fe",
   "metadata": {},
   "outputs": [],
   "source": []
  }
 ],
 "metadata": {
  "kernelspec": {
   "display_name": "Python 3 (ipykernel)",
   "language": "python",
   "name": "python3"
  },
  "language_info": {
   "codemirror_mode": {
    "name": "ipython",
    "version": 3
   },
   "file_extension": ".py",
   "mimetype": "text/x-python",
   "name": "python",
   "nbconvert_exporter": "python",
   "pygments_lexer": "ipython3",
   "version": "3.8.2"
  }
 },
 "nbformat": 4,
 "nbformat_minor": 5
}
