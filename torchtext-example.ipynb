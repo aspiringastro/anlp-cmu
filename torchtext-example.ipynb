{
 "cells": [
  {
   "cell_type": "code",
   "execution_count": 1,
   "id": "6647d71b-9165-4474-99f0-d8dc6cda8460",
   "metadata": {},
   "outputs": [
    {
     "name": "stdout",
     "output_type": "stream",
     "text": [
      "Defaulting to user installation because normal site-packages is not writeable\n",
      "Requirement already satisfied: torchtext==0.10.0 in /Users/ajithj/Library/Python/3.8/lib/python/site-packages (0.10.0)\n",
      "Requirement already satisfied: requests in /Users/ajithj/Library/Python/3.8/lib/python/site-packages (from torchtext==0.10.0) (2.28.1)\n",
      "Requirement already satisfied: tqdm in /Users/ajithj/Library/Python/3.8/lib/python/site-packages (from torchtext==0.10.0) (4.64.1)\n",
      "Requirement already satisfied: numpy in /Users/ajithj/Library/Python/3.8/lib/python/site-packages (from torchtext==0.10.0) (1.23.4)\n",
      "Requirement already satisfied: torch==1.9.0 in /Users/ajithj/Library/Python/3.8/lib/python/site-packages (from torchtext==0.10.0) (1.9.0)\n",
      "Requirement already satisfied: typing-extensions in /Users/ajithj/Library/Python/3.8/lib/python/site-packages (from torch==1.9.0->torchtext==0.10.0) (4.4.0)\n",
      "Requirement already satisfied: certifi>=2017.4.17 in /Users/ajithj/Library/Python/3.8/lib/python/site-packages (from requests->torchtext==0.10.0) (2022.9.24)\n",
      "Requirement already satisfied: idna<4,>=2.5 in /Users/ajithj/Library/Python/3.8/lib/python/site-packages (from requests->torchtext==0.10.0) (3.4)\n",
      "Requirement already satisfied: urllib3<1.27,>=1.21.1 in /Users/ajithj/Library/Python/3.8/lib/python/site-packages (from requests->torchtext==0.10.0) (1.26.12)\n",
      "Requirement already satisfied: charset-normalizer<3,>=2 in /Users/ajithj/Library/Python/3.8/lib/python/site-packages (from requests->torchtext==0.10.0) (2.1.1)\n"
     ]
    }
   ],
   "source": [
    "!pip install torchtext==0.10.0"
   ]
  },
  {
   "cell_type": "code",
   "execution_count": 2,
   "id": "d6f97bac-9d63-48ab-b80a-b78292021a5e",
   "metadata": {},
   "outputs": [],
   "source": [
    "import torch\n",
    "import torch.nn as nn\n",
    "import torch.optim as optim\n",
    "import torch.nn.functional as F\n",
    "import torchtext.legacy.data as data\n"
   ]
  },
  {
   "cell_type": "code",
   "execution_count": 6,
   "id": "5fed9097-8bdc-4d18-a8bf-c64a5c2919c8",
   "metadata": {},
   "outputs": [
    {
     "ename": "AttributeError",
     "evalue": "'list' object has no attribute 'items'",
     "output_type": "error",
     "traceback": [
      "\u001b[0;31m---------------------------------------------------------------------------\u001b[0m",
      "\u001b[0;31mAttributeError\u001b[0m                            Traceback (most recent call last)",
      "Cell \u001b[0;32mIn [6], line 15\u001b[0m\n\u001b[1;32m     11\u001b[0m LABEL \u001b[38;5;241m=\u001b[39m data\u001b[38;5;241m.\u001b[39mField(sequential\u001b[38;5;241m=\u001b[39m\u001b[38;5;28;01mTrue\u001b[39;00m, tokenize\u001b[38;5;241m=\u001b[39mlabel_tokenizer, use_vocab\u001b[38;5;241m=\u001b[39m\u001b[38;5;28;01mFalse\u001b[39;00m)\n\u001b[1;32m     13\u001b[0m dataFields\u001b[38;5;241m=\u001b[39m[(\u001b[38;5;124m'\u001b[39m\u001b[38;5;124mlabel\u001b[39m\u001b[38;5;124m'\u001b[39m, LABEL), (\u001b[38;5;124m'\u001b[39m\u001b[38;5;124mtext\u001b[39m\u001b[38;5;124m'\u001b[39m, TEXT)]\n\u001b[0;32m---> 15\u001b[0m train, val, text \u001b[38;5;241m=\u001b[39m \u001b[43mdata\u001b[49m\u001b[38;5;241;43m.\u001b[39;49m\u001b[43mTabularDataset\u001b[49m\u001b[38;5;241;43m.\u001b[39;49m\u001b[43msplits\u001b[49m\u001b[43m(\u001b[49m\n\u001b[1;32m     16\u001b[0m \u001b[43m    \u001b[49m\u001b[43mpath\u001b[49m\u001b[38;5;241;43m=\u001b[39;49m\u001b[38;5;124;43m'\u001b[39;49m\u001b[38;5;124;43mdata/sst-sentiment-text-threeclass/\u001b[39;49m\u001b[38;5;124;43m'\u001b[39;49m\u001b[43m,\u001b[49m\n\u001b[1;32m     17\u001b[0m \u001b[43m    \u001b[49m\u001b[43mtrain\u001b[49m\u001b[38;5;241;43m=\u001b[39;49m\u001b[38;5;124;43m'\u001b[39;49m\u001b[38;5;124;43mtrain.json\u001b[39;49m\u001b[38;5;124;43m'\u001b[39;49m\u001b[43m,\u001b[49m\u001b[43m \u001b[49m\u001b[43mvalidation\u001b[49m\u001b[38;5;241;43m=\u001b[39;49m\u001b[38;5;124;43m'\u001b[39;49m\u001b[38;5;124;43mdev.json\u001b[39;49m\u001b[38;5;124;43m'\u001b[39;49m\u001b[43m,\u001b[49m\u001b[43m \u001b[49m\u001b[43mtest\u001b[49m\u001b[38;5;241;43m=\u001b[39;49m\u001b[38;5;124;43m'\u001b[39;49m\u001b[38;5;124;43mtest.json\u001b[39;49m\u001b[38;5;124;43m'\u001b[39;49m\u001b[43m,\u001b[49m\n\u001b[1;32m     18\u001b[0m \u001b[43m    \u001b[49m\u001b[38;5;28;43mformat\u001b[39;49m\u001b[38;5;241;43m=\u001b[39;49m\u001b[38;5;124;43m'\u001b[39;49m\u001b[38;5;124;43mjson\u001b[39;49m\u001b[38;5;124;43m'\u001b[39;49m\u001b[43m,\u001b[49m\n\u001b[1;32m     19\u001b[0m \u001b[43m    \u001b[49m\u001b[43mfields\u001b[49m\u001b[38;5;241;43m=\u001b[39;49m\u001b[43mdataFields\u001b[49m\u001b[43m)\u001b[49m\n\u001b[1;32m     21\u001b[0m train_iter, val_iter, test_iter \u001b[38;5;241m=\u001b[39m data\u001b[38;5;241m.\u001b[39mBucketIterator\u001b[38;5;241m.\u001b[39msplits(\n\u001b[1;32m     22\u001b[0m     (train, val, test), batch_sizes\u001b[38;5;241m=\u001b[39m(\u001b[38;5;241m16\u001b[39m, \u001b[38;5;241m64\u001b[39m, \u001b[38;5;241m64\u001b[39m),\n\u001b[1;32m     23\u001b[0m     sort_key\u001b[38;5;241m=\u001b[39m\u001b[38;5;28;01mlambda\u001b[39;00m x: \u001b[38;5;28mlen\u001b[39m(x\u001b[38;5;241m.\u001b[39mtext), device\u001b[38;5;241m=\u001b[39m\u001b[38;5;241m0\u001b[39m)\n\u001b[1;32m     25\u001b[0m TEXT\u001b[38;5;241m.\u001b[39mbuild_vocab(train)\n",
      "File \u001b[0;32m~/Library/Python/3.8/lib/python/site-packages/torchtext/legacy/data/dataset.py:77\u001b[0m, in \u001b[0;36mDataset.splits\u001b[0;34m(cls, path, root, train, validation, test, **kwargs)\u001b[0m\n\u001b[1;32m     75\u001b[0m \u001b[38;5;28;01mif\u001b[39;00m path \u001b[38;5;129;01mis\u001b[39;00m \u001b[38;5;28;01mNone\u001b[39;00m:\n\u001b[1;32m     76\u001b[0m     path \u001b[38;5;241m=\u001b[39m \u001b[38;5;28mcls\u001b[39m\u001b[38;5;241m.\u001b[39mdownload(root)\n\u001b[0;32m---> 77\u001b[0m train_data \u001b[38;5;241m=\u001b[39m \u001b[38;5;28;01mNone\u001b[39;00m \u001b[38;5;28;01mif\u001b[39;00m train \u001b[38;5;129;01mis\u001b[39;00m \u001b[38;5;28;01mNone\u001b[39;00m \u001b[38;5;28;01melse\u001b[39;00m \u001b[38;5;28;43mcls\u001b[39;49m\u001b[43m(\u001b[49m\n\u001b[1;32m     78\u001b[0m \u001b[43m    \u001b[49m\u001b[43mos\u001b[49m\u001b[38;5;241;43m.\u001b[39;49m\u001b[43mpath\u001b[49m\u001b[38;5;241;43m.\u001b[39;49m\u001b[43mjoin\u001b[49m\u001b[43m(\u001b[49m\u001b[43mpath\u001b[49m\u001b[43m,\u001b[49m\u001b[43m \u001b[49m\u001b[43mtrain\u001b[49m\u001b[43m)\u001b[49m\u001b[43m,\u001b[49m\u001b[43m \u001b[49m\u001b[38;5;241;43m*\u001b[39;49m\u001b[38;5;241;43m*\u001b[39;49m\u001b[43mkwargs\u001b[49m\u001b[43m)\u001b[49m\n\u001b[1;32m     79\u001b[0m val_data \u001b[38;5;241m=\u001b[39m \u001b[38;5;28;01mNone\u001b[39;00m \u001b[38;5;28;01mif\u001b[39;00m validation \u001b[38;5;129;01mis\u001b[39;00m \u001b[38;5;28;01mNone\u001b[39;00m \u001b[38;5;28;01melse\u001b[39;00m \u001b[38;5;28mcls\u001b[39m(\n\u001b[1;32m     80\u001b[0m     os\u001b[38;5;241m.\u001b[39mpath\u001b[38;5;241m.\u001b[39mjoin(path, validation), \u001b[38;5;241m*\u001b[39m\u001b[38;5;241m*\u001b[39mkwargs)\n\u001b[1;32m     81\u001b[0m test_data \u001b[38;5;241m=\u001b[39m \u001b[38;5;28;01mNone\u001b[39;00m \u001b[38;5;28;01mif\u001b[39;00m test \u001b[38;5;129;01mis\u001b[39;00m \u001b[38;5;28;01mNone\u001b[39;00m \u001b[38;5;28;01melse\u001b[39;00m \u001b[38;5;28mcls\u001b[39m(\n\u001b[1;32m     82\u001b[0m     os\u001b[38;5;241m.\u001b[39mpath\u001b[38;5;241m.\u001b[39mjoin(path, test), \u001b[38;5;241m*\u001b[39m\u001b[38;5;241m*\u001b[39mkwargs)\n",
      "File \u001b[0;32m~/Library/Python/3.8/lib/python/site-packages/torchtext/legacy/data/dataset.py:274\u001b[0m, in \u001b[0;36mTabularDataset.__init__\u001b[0;34m(self, path, format, fields, skip_header, csv_reader_params, **kwargs)\u001b[0m\n\u001b[1;32m    271\u001b[0m     \u001b[38;5;28;01mif\u001b[39;00m skip_header:\n\u001b[1;32m    272\u001b[0m         \u001b[38;5;28mnext\u001b[39m(reader)\n\u001b[0;32m--> 274\u001b[0m     examples \u001b[38;5;241m=\u001b[39m [make_example(line, fields) \u001b[38;5;28;01mfor\u001b[39;00m line \u001b[38;5;129;01min\u001b[39;00m reader]\n\u001b[1;32m    276\u001b[0m \u001b[38;5;28;01mif\u001b[39;00m \u001b[38;5;28misinstance\u001b[39m(fields, \u001b[38;5;28mdict\u001b[39m):\n\u001b[1;32m    277\u001b[0m     fields, field_dict \u001b[38;5;241m=\u001b[39m [], fields\n",
      "File \u001b[0;32m~/Library/Python/3.8/lib/python/site-packages/torchtext/legacy/data/dataset.py:274\u001b[0m, in \u001b[0;36m<listcomp>\u001b[0;34m(.0)\u001b[0m\n\u001b[1;32m    271\u001b[0m     \u001b[38;5;28;01mif\u001b[39;00m skip_header:\n\u001b[1;32m    272\u001b[0m         \u001b[38;5;28mnext\u001b[39m(reader)\n\u001b[0;32m--> 274\u001b[0m     examples \u001b[38;5;241m=\u001b[39m [\u001b[43mmake_example\u001b[49m\u001b[43m(\u001b[49m\u001b[43mline\u001b[49m\u001b[43m,\u001b[49m\u001b[43m \u001b[49m\u001b[43mfields\u001b[49m\u001b[43m)\u001b[49m \u001b[38;5;28;01mfor\u001b[39;00m line \u001b[38;5;129;01min\u001b[39;00m reader]\n\u001b[1;32m    276\u001b[0m \u001b[38;5;28;01mif\u001b[39;00m \u001b[38;5;28misinstance\u001b[39m(fields, \u001b[38;5;28mdict\u001b[39m):\n\u001b[1;32m    277\u001b[0m     fields, field_dict \u001b[38;5;241m=\u001b[39m [], fields\n",
      "File \u001b[0;32m~/Library/Python/3.8/lib/python/site-packages/torchtext/legacy/data/example.py:15\u001b[0m, in \u001b[0;36mExample.fromJSON\u001b[0;34m(cls, data, fields)\u001b[0m\n\u001b[1;32m     12\u001b[0m ex \u001b[38;5;241m=\u001b[39m \u001b[38;5;28mcls\u001b[39m()\n\u001b[1;32m     13\u001b[0m obj \u001b[38;5;241m=\u001b[39m json\u001b[38;5;241m.\u001b[39mloads(data)\n\u001b[0;32m---> 15\u001b[0m \u001b[38;5;28;01mfor\u001b[39;00m key, vals \u001b[38;5;129;01min\u001b[39;00m \u001b[43mfields\u001b[49m\u001b[38;5;241;43m.\u001b[39;49m\u001b[43mitems\u001b[49m():\n\u001b[1;32m     16\u001b[0m     \u001b[38;5;28;01mif\u001b[39;00m vals \u001b[38;5;129;01mis\u001b[39;00m \u001b[38;5;129;01mnot\u001b[39;00m \u001b[38;5;28;01mNone\u001b[39;00m:\n\u001b[1;32m     17\u001b[0m         \u001b[38;5;28;01mif\u001b[39;00m \u001b[38;5;129;01mnot\u001b[39;00m \u001b[38;5;28misinstance\u001b[39m(vals, \u001b[38;5;28mlist\u001b[39m):\n",
      "\u001b[0;31mAttributeError\u001b[0m: 'list' object has no attribute 'items'"
     ]
    }
   ],
   "source": [
    "# Text tokenizer function - dummy tokenizer to return same text.\n",
    "# Here you will use your own tokenizer.\n",
    "text_tokenizer = lambda x : x\n",
    "\n",
    "# Label tokenizer - dummy label encoder that returns same label.\n",
    "# Here you will add your own label encoder.\n",
    "label_tokenizer = lambda x: x\n",
    "\n",
    "\n",
    "TEXT = data.Field(sequential=True, tokenize=text_tokenizer, lower=True)\n",
    "LABEL = data.Field(sequential=True, tokenize=label_tokenizer, use_vocab=False)\n",
    "\n",
    "dataFields=[('label', LABEL), ('text', TEXT)]\n",
    "\n",
    "train, val, text = data.TabularDataset.splits(\n",
    "    path='data/sst-sentiment-text-threeclass/',\n",
    "    train='train.json', validation='dev.json', test='test.json',\n",
    "    format='json',\n",
    "    fields=dataFields)\n",
    "\n",
    "train_iter, val_iter, test_iter = data.BucketIterator.splits(\n",
    "    (train, val, test), batch_sizes=(16, 64, 64),\n",
    "    sort_key=lambda x: len(x.text), device=0)\n",
    "\n",
    "TEXT.build_vocab(train)\n",
    "LABEL.build_vocab(train)"
   ]
  },
  {
   "cell_type": "code",
   "execution_count": null,
   "id": "d0a43a48-49c2-4828-b0c2-596227cd26e6",
   "metadata": {},
   "outputs": [],
   "source": []
  }
 ],
 "metadata": {
  "kernelspec": {
   "display_name": "Python 3 (ipykernel)",
   "language": "python",
   "name": "python3"
  },
  "language_info": {
   "codemirror_mode": {
    "name": "ipython",
    "version": 3
   },
   "file_extension": ".py",
   "mimetype": "text/x-python",
   "name": "python",
   "nbconvert_exporter": "python",
   "pygments_lexer": "ipython3",
   "version": "3.8.2"
  }
 },
 "nbformat": 4,
 "nbformat_minor": 5
}
